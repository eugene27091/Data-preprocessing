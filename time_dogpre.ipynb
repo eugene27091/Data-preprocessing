{
  "nbformat": 4,
  "nbformat_minor": 0,
  "metadata": {
    "colab": {
      "name": "time_dogpre",
      "provenance": [],
      "collapsed_sections": [],
      "authorship_tag": "ABX9TyOIYxmFYi8zuknS6JdOcKuA",
      "include_colab_link": true
    },
    "kernelspec": {
      "name": "python3",
      "display_name": "Python 3"
    },
    "language_info": {
      "name": "python"
    }
  },
  "cells": [
    {
      "cell_type": "markdown",
      "metadata": {
        "id": "view-in-github",
        "colab_type": "text"
      },
      "source": [
        "<a href=\"https://colab.research.google.com/github/eugene27091/Data-preprocessing/blob/master/time_dogpre.ipynb\" target=\"_parent\"><img src=\"https://colab.research.google.com/assets/colab-badge.svg\" alt=\"Open In Colab\"/></a>"
      ]
    },
    {
      "cell_type": "code",
      "metadata": {
        "colab": {
          "base_uri": "https://localhost:8080/"
        },
        "id": "tUxGX-yBhB0j",
        "outputId": "64e14a44-e235-48ea-8f4e-85740ca025b5"
      },
      "source": [
        "import pandas as pd\n",
        "import numpy as np\n",
        "%matplotlib inline\n",
        "import matplotlib.pyplot as plt\n",
        "from matplotlib import font_manager\n",
        "!apt install fonts-nanum\n",
        "\n",
        "plt.rcParams['figure.figsize'] = [20, 50]\n",
        "\n",
        "!sudo apt-get install -y fonts-nanum\n",
        "!sudo fc-cache -fv\n",
        "!rm ~/.cache/matplotlib -rf\n"
      ],
      "execution_count": 13,
      "outputs": [
        {
          "output_type": "stream",
          "text": [
            "Reading package lists... Done\n",
            "Building dependency tree       \n",
            "Reading state information... Done\n",
            "fonts-nanum is already the newest version (20170925-1).\n",
            "The following package was automatically installed and is no longer required:\n",
            "  libnvidia-common-460\n",
            "Use 'apt autoremove' to remove it.\n",
            "0 upgraded, 0 newly installed, 0 to remove and 40 not upgraded.\n",
            "Reading package lists... Done\n",
            "Building dependency tree       \n",
            "Reading state information... Done\n",
            "fonts-nanum is already the newest version (20170925-1).\n",
            "The following package was automatically installed and is no longer required:\n",
            "  libnvidia-common-460\n",
            "Use 'sudo apt autoremove' to remove it.\n",
            "0 upgraded, 0 newly installed, 0 to remove and 40 not upgraded.\n",
            "/usr/share/fonts: caching, new cache contents: 0 fonts, 1 dirs\n",
            "/usr/share/fonts/truetype: caching, new cache contents: 0 fonts, 3 dirs\n",
            "/usr/share/fonts/truetype/humor-sans: caching, new cache contents: 1 fonts, 0 dirs\n",
            "/usr/share/fonts/truetype/liberation: caching, new cache contents: 16 fonts, 0 dirs\n",
            "/usr/share/fonts/truetype/nanum: caching, new cache contents: 10 fonts, 0 dirs\n",
            "/usr/local/share/fonts: caching, new cache contents: 0 fonts, 0 dirs\n",
            "/root/.local/share/fonts: skipping, no such directory\n",
            "/root/.fonts: skipping, no such directory\n",
            "/var/cache/fontconfig: cleaning cache directory\n",
            "/root/.cache/fontconfig: not cleaning non-existent cache directory\n",
            "/root/.fontconfig: not cleaning non-existent cache directory\n",
            "fc-cache: succeeded\n"
          ],
          "name": "stdout"
        }
      ]
    },
    {
      "cell_type": "code",
      "metadata": {
        "colab": {
          "base_uri": "https://localhost:8080/"
        },
        "id": "TSOQWa7_hM7B",
        "outputId": "e42d4bc0-f865-4540-9557-4dad128ed22b"
      },
      "source": [
        "from google.colab import drive\n",
        "drive.mount('/content/drive')"
      ],
      "execution_count": 14,
      "outputs": [
        {
          "output_type": "stream",
          "text": [
            "Drive already mounted at /content/drive; to attempt to forcibly remount, call drive.mount(\"/content/drive\", force_remount=True).\n"
          ],
          "name": "stdout"
        }
      ]
    },
    {
      "cell_type": "code",
      "metadata": {
        "id": "BbQ4ZS8lhUVO"
      },
      "source": [
        "df = pd.read_excel('/content/drive/MyDrive/dogPre/DogPre_less_than_6.xlsx')\n",
        "\n",
        "# df.sort_values(['review_num'],ascending=True)\n",
        "# df.review_num.sort_values()\n",
        "# df.sort_values(by='review_num' ,ascending=False)\n"
      ],
      "execution_count": 15,
      "outputs": []
    },
    {
      "cell_type": "code",
      "metadata": {
        "id": "0r5alDlYhhoX",
        "colab": {
          "base_uri": "https://localhost:8080/"
        },
        "outputId": "2baf1e54-e9e5-49e0-f584-184c43c7e944"
      },
      "source": [
        "df.dtypes"
      ],
      "execution_count": 16,
      "outputs": [
        {
          "output_type": "execute_result",
          "data": {
            "text/plain": [
              "Unnamed: 0        int64\n",
              "Unnamed: 0.1      int64\n",
              "num               int64\n",
              "item             object\n",
              "date             object\n",
              "star              int64\n",
              "breed            object\n",
              "age              object\n",
              "document         object\n",
              "token            object\n",
              "review_length     int64\n",
              "dtype: object"
            ]
          },
          "metadata": {},
          "execution_count": 16
        }
      ]
    },
    {
      "cell_type": "code",
      "metadata": {
        "colab": {
          "base_uri": "https://localhost:8080/"
        },
        "id": "3ephGxqUh8af",
        "outputId": "54ee56b7-131f-42dc-d882-6a91fbdd3b21"
      },
      "source": [
        "df_clock = df[['item','date','star']]\n",
        "df_clock\n",
        "df_clock['date'] = pd.to_datetime(df_clock['date'])\n",
        "df_clock['num'] = 1\n",
        "df_clock.to_excel(\"/content/drive/MyDrive/dogPre/df_clock.xlsx\")"
      ],
      "execution_count": 18,
      "outputs": [
        {
          "output_type": "stream",
          "text": [
            "/usr/local/lib/python3.7/dist-packages/ipykernel_launcher.py:3: SettingWithCopyWarning: \n",
            "A value is trying to be set on a copy of a slice from a DataFrame.\n",
            "Try using .loc[row_indexer,col_indexer] = value instead\n",
            "\n",
            "See the caveats in the documentation: https://pandas.pydata.org/pandas-docs/stable/user_guide/indexing.html#returning-a-view-versus-a-copy\n",
            "  This is separate from the ipykernel package so we can avoid doing imports until\n",
            "/usr/local/lib/python3.7/dist-packages/ipykernel_launcher.py:4: SettingWithCopyWarning: \n",
            "A value is trying to be set on a copy of a slice from a DataFrame.\n",
            "Try using .loc[row_indexer,col_indexer] = value instead\n",
            "\n",
            "See the caveats in the documentation: https://pandas.pydata.org/pandas-docs/stable/user_guide/indexing.html#returning-a-view-versus-a-copy\n",
            "  after removing the cwd from sys.path.\n"
          ],
          "name": "stderr"
        }
      ]
    },
    {
      "cell_type": "code",
      "metadata": {
        "colab": {
          "base_uri": "https://localhost:8080/"
        },
        "id": "Uvziq6g39YEH",
        "outputId": "28f2265b-c35d-43d0-c4e3-7fdb8dafa00d"
      },
      "source": [
        "df_clock['brand'] = df_clock.item.str.split(' ').str[0]\n",
        "df_clock\n",
        "# df_clock.to_excel(\"/content/drive/MyDrive/dogPre/df_clock_brand.xlsx\")"
      ],
      "execution_count": 29,
      "outputs": [
        {
          "output_type": "stream",
          "text": [
            "/usr/local/lib/python3.7/dist-packages/ipykernel_launcher.py:1: SettingWithCopyWarning: \n",
            "A value is trying to be set on a copy of a slice from a DataFrame.\n",
            "Try using .loc[row_indexer,col_indexer] = value instead\n",
            "\n",
            "See the caveats in the documentation: https://pandas.pydata.org/pandas-docs/stable/user_guide/indexing.html#returning-a-view-versus-a-copy\n",
            "  \"\"\"Entry point for launching an IPython kernel.\n"
          ],
          "name": "stderr"
        }
      ]
    },
    {
      "cell_type": "code",
      "metadata": {
        "colab": {
          "base_uri": "https://localhost:8080/"
        },
        "id": "Yr7f4egch0nv",
        "outputId": "a7ca3e24-635a-4d4b-ae2c-29e7c91f1714"
      },
      "source": [
        "brand_no = df['brand'].value_counts()\n",
        "brand_no"
      ],
      "execution_count": 30,
      "outputs": [
        {
          "output_type": "execute_result",
          "data": {
            "text/plain": [
              "네츄럴코어     49802\n",
              "시저        20936\n",
              "now        7780\n",
              "아침애        6508\n",
              "뉴트리나       6403\n",
              "ANF        5616\n",
              "더독         4460\n",
              "오리젠        2529\n",
              "아카나        1808\n",
              "내추럴발란스     1662\n",
              "로얄캐닌       1054\n",
              "제니스         769\n",
              "지위픽         388\n",
              "데이스포        355\n",
              "도비          298\n",
              "펫츠프라임       180\n",
              "올가밀         179\n",
              "퓨리나         176\n",
              "굿프랜드        118\n",
              "하림펫푸드       116\n",
              "go!          85\n",
              "위시본          60\n",
              "퓨어비타         59\n",
              "힐스           49\n",
              "한끼뚝딱         41\n",
              "네이처스         30\n",
              "카루           30\n",
              "앱솔루트         30\n",
              "워프           30\n",
              "HALO         30\n",
              "아스쿠          24\n",
              "[1+1]        20\n",
              "도그랑          17\n",
              "Name: brand, dtype: int64"
            ]
          },
          "metadata": {},
          "execution_count": 30
        }
      ]
    },
    {
      "cell_type": "code",
      "metadata": {
        "id": "_hAfUCcSBni1"
      },
      "source": [
        "df_clock.sort_values(by='brand',ascending=False).to_excel(\"/content/drive/MyDrive/dogPre/df_clock_brand.xlsx\")\n"
      ],
      "execution_count": 33,
      "outputs": []
    },
    {
      "cell_type": "code",
      "metadata": {
        "colab": {
          "base_uri": "https://localhost:8080/",
          "height": 454
        },
        "id": "8v2WhBsUE1kc",
        "outputId": "66d20404-245a-43f4-d3bf-d90d065e3913"
      },
      "source": [
        "df_clock.dtypes\n",
        "df_clock.set_index('date')"
      ],
      "execution_count": 40,
      "outputs": [
        {
          "output_type": "execute_result",
          "data": {
            "text/html": [
              "<div>\n",
              "<style scoped>\n",
              "    .dataframe tbody tr th:only-of-type {\n",
              "        vertical-align: middle;\n",
              "    }\n",
              "\n",
              "    .dataframe tbody tr th {\n",
              "        vertical-align: top;\n",
              "    }\n",
              "\n",
              "    .dataframe thead th {\n",
              "        text-align: right;\n",
              "    }\n",
              "</style>\n",
              "<table border=\"1\" class=\"dataframe\">\n",
              "  <thead>\n",
              "    <tr style=\"text-align: right;\">\n",
              "      <th></th>\n",
              "      <th>item</th>\n",
              "      <th>star</th>\n",
              "      <th>num</th>\n",
              "      <th>brand</th>\n",
              "    </tr>\n",
              "    <tr>\n",
              "      <th>date</th>\n",
              "      <th></th>\n",
              "      <th></th>\n",
              "      <th></th>\n",
              "      <th></th>\n",
              "    </tr>\n",
              "  </thead>\n",
              "  <tbody>\n",
              "    <tr>\n",
              "      <th>2015-03-20</th>\n",
              "      <td>네츄럴코어 홀리스틱 베네 M32 멀티프로테인 6kg</td>\n",
              "      <td>5</td>\n",
              "      <td>1</td>\n",
              "      <td>네츄럴코어</td>\n",
              "    </tr>\n",
              "    <tr>\n",
              "      <th>2015-07-09</th>\n",
              "      <td>네츄럴코어 홀리스틱 베네 M32 멀티프로테인 6kg</td>\n",
              "      <td>5</td>\n",
              "      <td>1</td>\n",
              "      <td>네츄럴코어</td>\n",
              "    </tr>\n",
              "    <tr>\n",
              "      <th>2014-04-24</th>\n",
              "      <td>네츄럴코어 홀리스틱 베네 M32 멀티프로테인 6kg</td>\n",
              "      <td>5</td>\n",
              "      <td>1</td>\n",
              "      <td>네츄럴코어</td>\n",
              "    </tr>\n",
              "    <tr>\n",
              "      <th>2019-04-26</th>\n",
              "      <td>네츄럴코어 홀리스틱 베네 M32 멀티프로테인 6kg</td>\n",
              "      <td>5</td>\n",
              "      <td>1</td>\n",
              "      <td>네츄럴코어</td>\n",
              "    </tr>\n",
              "    <tr>\n",
              "      <th>2014-02-11</th>\n",
              "      <td>네츄럴코어 홀리스틱 베네 M32 멀티프로테인 6kg</td>\n",
              "      <td>5</td>\n",
              "      <td>1</td>\n",
              "      <td>네츄럴코어</td>\n",
              "    </tr>\n",
              "    <tr>\n",
              "      <th>...</th>\n",
              "      <td>...</td>\n",
              "      <td>...</td>\n",
              "      <td>...</td>\n",
              "      <td>...</td>\n",
              "    </tr>\n",
              "    <tr>\n",
              "      <th>2017-10-19</th>\n",
              "      <td>굿프랜드 스페셜서퍼 닭고기 285g</td>\n",
              "      <td>5</td>\n",
              "      <td>1</td>\n",
              "      <td>굿프랜드</td>\n",
              "    </tr>\n",
              "    <tr>\n",
              "      <th>2017-10-12</th>\n",
              "      <td>굿프랜드 스페셜서퍼 닭고기 285g</td>\n",
              "      <td>5</td>\n",
              "      <td>1</td>\n",
              "      <td>굿프랜드</td>\n",
              "    </tr>\n",
              "    <tr>\n",
              "      <th>2017-10-12</th>\n",
              "      <td>굿프랜드 스페셜서퍼 닭고기 285g</td>\n",
              "      <td>5</td>\n",
              "      <td>1</td>\n",
              "      <td>굿프랜드</td>\n",
              "    </tr>\n",
              "    <tr>\n",
              "      <th>2017-09-16</th>\n",
              "      <td>굿프랜드 스페셜서퍼 닭고기 285g</td>\n",
              "      <td>5</td>\n",
              "      <td>1</td>\n",
              "      <td>굿프랜드</td>\n",
              "    </tr>\n",
              "    <tr>\n",
              "      <th>2017-09-11</th>\n",
              "      <td>굿프랜드 스페셜서퍼 닭고기 285g</td>\n",
              "      <td>5</td>\n",
              "      <td>1</td>\n",
              "      <td>굿프랜드</td>\n",
              "    </tr>\n",
              "  </tbody>\n",
              "</table>\n",
              "<p>111642 rows × 4 columns</p>\n",
              "</div>"
            ],
            "text/plain": [
              "                                    item  star  num  brand\n",
              "date                                                      \n",
              "2015-03-20  네츄럴코어 홀리스틱 베네 M32 멀티프로테인 6kg     5    1  네츄럴코어\n",
              "2015-07-09  네츄럴코어 홀리스틱 베네 M32 멀티프로테인 6kg     5    1  네츄럴코어\n",
              "2014-04-24  네츄럴코어 홀리스틱 베네 M32 멀티프로테인 6kg     5    1  네츄럴코어\n",
              "2019-04-26  네츄럴코어 홀리스틱 베네 M32 멀티프로테인 6kg     5    1  네츄럴코어\n",
              "2014-02-11  네츄럴코어 홀리스틱 베네 M32 멀티프로테인 6kg     5    1  네츄럴코어\n",
              "...                                  ...   ...  ...    ...\n",
              "2017-10-19           굿프랜드 스페셜서퍼 닭고기 285g     5    1   굿프랜드\n",
              "2017-10-12           굿프랜드 스페셜서퍼 닭고기 285g     5    1   굿프랜드\n",
              "2017-10-12           굿프랜드 스페셜서퍼 닭고기 285g     5    1   굿프랜드\n",
              "2017-09-16           굿프랜드 스페셜서퍼 닭고기 285g     5    1   굿프랜드\n",
              "2017-09-11           굿프랜드 스페셜서퍼 닭고기 285g     5    1   굿프랜드\n",
              "\n",
              "[111642 rows x 4 columns]"
            ]
          },
          "metadata": {},
          "execution_count": 40
        }
      ]
    },
    {
      "cell_type": "code",
      "metadata": {
        "id": "u-CSwLP1I8q9"
      },
      "source": [
        "grouped = df.groupby('brand')\n",
        "print(grouped)"
      ],
      "execution_count": null,
      "outputs": []
    },
    {
      "cell_type": "code",
      "metadata": {
        "colab": {
          "base_uri": "https://localhost:8080/",
          "height": 1000
        },
        "id": "955NQZKVEpsy",
        "outputId": "8a19abe1-ec0f-49d2-cc19-75f87ddcb71a"
      },
      "source": [
        "# df_clock.set_index('date')\n",
        "# group_sum = df_clock.resample('m', on='date')['num'].sum()\n",
        "# group_sum.plot(kind='bar')\n",
        "# plt.show()"
      ],
      "execution_count": 39,
      "outputs": [
        {
          "output_type": "display_data",
          "data": {
            "image/png": "[encoded data removed]",
            "text/plain": [
              "<Figure size 1440x3600 with 1 Axes>"
            ]
          },
          "metadata": {
            "needs_background": "light"
          }
        }
      ]
    },
    {
      "cell_type": "code",
      "metadata": {
        "colab": {
          "base_uri": "https://localhost:8080/",
          "height": 321
        },
        "id": "q6JzDG3TiQ_x",
        "outputId": "6c1461d8-681e-452a-daf0-381661f5dbcf"
      },
      "source": [
        "# star_1and2 = df[df.star == 1 ]\n",
        "# star_1and2\n",
        "# star_1and2.to_excel('/content/drive/MyDrive/puppy/star_1,2,3.xlsx')\n"
      ],
      "execution_count": null,
      "outputs": [
        {
          "output_type": "error",
          "ename": "ValueError",
          "evalue": "ignored",
          "traceback": [
            "\u001b[0;31m---------------------------------------------------------------------------\u001b[0m",
            "\u001b[0;31mValueError\u001b[0m                                Traceback (most recent call last)",
            "\u001b[0;32m<ipython-input-11-d1ed005f6dad>\u001b[0m in \u001b[0;36m<module>\u001b[0;34m()\u001b[0m\n\u001b[0;32m----> 1\u001b[0;31m \u001b[0mstar_1and2\u001b[0m \u001b[0;34m=\u001b[0m \u001b[0mdf\u001b[0m\u001b[0;34m[\u001b[0m\u001b[0mdf\u001b[0m\u001b[0;34m.\u001b[0m\u001b[0mstar\u001b[0m \u001b[0;34m==\u001b[0m \u001b[0;36m1\u001b[0m \u001b[0;32mor\u001b[0m \u001b[0;36m2\u001b[0m \u001b[0;32mor\u001b[0m \u001b[0;36m3\u001b[0m \u001b[0;34m]\u001b[0m\u001b[0;34m\u001b[0m\u001b[0;34m\u001b[0m\u001b[0m\n\u001b[0m\u001b[1;32m      2\u001b[0m \u001b[0mstar_1and2\u001b[0m\u001b[0;34m\u001b[0m\u001b[0;34m\u001b[0m\u001b[0m\n\u001b[1;32m      3\u001b[0m \u001b[0mstar_1and2\u001b[0m\u001b[0;34m.\u001b[0m\u001b[0mto_excel\u001b[0m\u001b[0;34m(\u001b[0m\u001b[0;34m'/content/drive/MyDrive/puppy/star_1,2,3.xlsx'\u001b[0m\u001b[0;34m)\u001b[0m\u001b[0;34m\u001b[0m\u001b[0;34m\u001b[0m\u001b[0m\n",
            "\u001b[0;32m/usr/local/lib/python3.7/dist-packages/pandas/core/generic.py\u001b[0m in \u001b[0;36m__nonzero__\u001b[0;34m(self)\u001b[0m\n\u001b[1;32m   1328\u001b[0m     \u001b[0;32mdef\u001b[0m \u001b[0m__nonzero__\u001b[0m\u001b[0;34m(\u001b[0m\u001b[0mself\u001b[0m\u001b[0;34m)\u001b[0m\u001b[0;34m:\u001b[0m\u001b[0;34m\u001b[0m\u001b[0;34m\u001b[0m\u001b[0m\n\u001b[1;32m   1329\u001b[0m         raise ValueError(\n\u001b[0;32m-> 1330\u001b[0;31m             \u001b[0;34mf\"The truth value of a {type(self).__name__} is ambiguous. \"\u001b[0m\u001b[0;34m\u001b[0m\u001b[0;34m\u001b[0m\u001b[0m\n\u001b[0m\u001b[1;32m   1331\u001b[0m             \u001b[0;34m\"Use a.empty, a.bool(), a.item(), a.any() or a.all().\"\u001b[0m\u001b[0;34m\u001b[0m\u001b[0;34m\u001b[0m\u001b[0m\n\u001b[1;32m   1332\u001b[0m         )\n",
            "\u001b[0;31mValueError\u001b[0m: The truth value of a Series is ambiguous. Use a.empty, a.bool(), a.item(), a.any() or a.all()."
          ]
        }
      ]
    },
    {
      "cell_type": "code",
      "metadata": {
        "colab": {
          "base_uri": "https://localhost:8080/"
        },
        "id": "lcxPNiR-Wa8K",
        "outputId": "5917e922-ed8e-4f53-af54-f194da1f39f6"
      },
      "source": [
        "product.groupby(by='item')"
      ],
      "execution_count": null,
      "outputs": [
        {
          "output_type": "execute_result",
          "data": {
            "text/plain": [
              "<pandas.core.groupby.generic.DataFrameGroupBy object at 0x7f5e67706a50>"
            ]
          },
          "metadata": {},
          "execution_count": 12
        }
      ]
    },
    {
      "cell_type": "code",
      "metadata": {
        "id": "FaWE4JujU-su"
      },
      "source": [
        ""
      ],
      "execution_count": null,
      "outputs": []
    }
  ]
}